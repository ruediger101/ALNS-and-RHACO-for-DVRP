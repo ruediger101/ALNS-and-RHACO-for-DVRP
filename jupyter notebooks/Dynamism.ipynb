{
 "cells": [
  {
   "cell_type": "code",
   "execution_count": 117,
   "id": "a19be74e-616e-4e99-a82e-6e19a434a7ba",
   "metadata": {},
   "outputs": [],
   "source": [
    "import matplotlib.pyplot as plt\n",
    "import numpy as np"
   ]
  },
  {
   "cell_type": "code",
   "execution_count": 116,
   "id": "5789a570-1cac-47b2-826c-0bf34e67a754",
   "metadata": {},
   "outputs": [
    {
     "name": "stdout",
     "output_type": "stream",
     "text": [
      "Durchschnittliche Dynamik: 52.2%\n",
      "Deviation der Dynamik: 2.1%\n"
     ]
    }
   ],
   "source": [
    "noRequests = 360\n",
    "maxTime = 100000\n",
    "\n",
    "perfectInterval = maxTime/noRequests\n",
    "#print(f\"Perfect Interval: {perfectInterval:.1f}\\n\")\n",
    "\n",
    "noSamples = 100000\n",
    "\n",
    "dynamismArray= np.empty(noSamples)\n",
    "\n",
    "for sample in range(noSamples):\n",
    "    times = np.random.randint(1,maxTime+1, noRequests)\n",
    "    \n",
    "    deltaTimes = np.empty(noRequests-1)\n",
    "    deviations = np.empty(noRequests-1)\n",
    "    \n",
    "    # First example from paper\n",
    "    #times =np.array([0.9,1,3,3.1,5.1,5.2,7.2,7.3,9.3,9.4])\n",
    "    # Second example from paper\n",
    "    #times =np.array([.5,.6,.7,.8,.9,1,3,5,7,9])\n",
    "    \n",
    "    times.sort()\n",
    "    \n",
    "    #print(f\"Zeiten: {[f'{x:.1f}'for x in times]}\")\n",
    "    \n",
    "    for i in range(len(times)-1):\n",
    "        deltaTimes[i] = times[i+1]-times[i]\n",
    "    \n",
    "    #print(f\"Zeitabstände: {[f'{x:.1f}'for x in deltaTimes]}\")\n",
    "    \n",
    "    # Handle first value seperate\n",
    "    if deltaTimes[0] < perfectInterval:\n",
    "        deviations[0] = perfectInterval - deltaTimes[0]\n",
    "    else:\n",
    "        deviations[0] = 0\n",
    "    \n",
    "    # Intialize with value of first entry which is always the perfectInterval value\n",
    "    maxPossibleDeviation = perfectInterval\n",
    "    \n",
    "    for i in range(1,len(deltaTimes)):\n",
    "        if deltaTimes[i] < perfectInterval:\n",
    "            deviationsWithoutPenalty = (perfectInterval - deltaTimes[i])\n",
    "            recursivePenalty = deviationsWithoutPenalty / perfectInterval * deviations[i-1]\n",
    "            deviations[i] = deviationsWithoutPenalty + recursivePenalty\n",
    "            maxPossibleDeviation += perfectInterval + recursivePenalty\n",
    "        else:\n",
    "            deviations[i] = 0\n",
    "            maxPossibleDeviation += perfectInterval\n",
    "    \n",
    "    deviation = deviations.sum()\n",
    "    \n",
    "    dynamism = 1 - (deviation/maxPossibleDeviation)\n",
    "    \n",
    "    dynamismArray[sample] = dynamism\n",
    "    #print(f\"Deviations: {[f'{x:.1f}'for x in deviations]}\")\n",
    "    \n",
    "    #print(f\"Deviation: {deviation:.2f}\")\n",
    "    #print(f\"Max. possible Deviation: {maxPossibleDeviation:.2f}\")\n",
    "    #print(f\"Dynamik: {dynamism*100:.1f}%\\n\")\n",
    "\n",
    "\n",
    "print(f\"Durchschnittliche Dynamik: {dynamismArray.mean()*100:.1f}%\")\n",
    "print(f\"Deviation der Dynamik: {dynamismArray.std()*100:.1f}%\")"
   ]
  },
  {
   "cell_type": "code",
   "execution_count": 104,
   "id": "9683fce0-1c17-43e1-8745-2711c71643db",
   "metadata": {},
   "outputs": [
    {
     "name": "stdout",
     "output_type": "stream",
     "text": [
      "Zeiten: ['1.1', '1.9', '2.4', '3.5', '6.0', '6.1', '7.9', '8.2', '8.5', '9.2']\n",
      "Zeitabstände: ['0.8', '0.5', '1.1', '2.5', '0.1', '1.8', '0.3', '0.3', '0.7']\n",
      "Deviations: ['0.2', '0.6', '0.0', '0.0', '0.9', '0.0', '0.7', '1.2', '0.7']\n",
      "Deviation: 4.25\n",
      "Max. possible Deviation: 9.95\n",
      "Dynamik: 57.3%\n",
      "\n"
     ]
    },
    {
     "data": {
      "image/png": "[encoded data removed]",
      "text/plain": [
       "<Figure size 1000x200 with 1 Axes>"
      ]
     },
     "metadata": {},
     "output_type": "display_data"
    }
   ],
   "source": [
    "noRequests = 10\n",
    "maxTime = 10\n",
    "timeResolution = 0.1\n",
    "\n",
    "perfectInterval = maxTime/noRequests\n",
    "#print(f\"Perfect Interval: {perfectInterval:.1f}\\n\")\n",
    "\n",
    "times = np.random.randint(1,maxTime/timeResolution + 1, noRequests) * timeResolution\n",
    "deltaTimes = np.empty(noRequests-1)\n",
    "deviations = np.empty(noRequests-1)\n",
    "\n",
    "# First example from paper\n",
    "#times =np.array([0.9,1,3,3.1,5.1,5.2,7.2,7.3,9.3,9.4])\n",
    "# Second example from paper\n",
    "#times =np.array([.5,.6,.7,.8,.9,1,3,5,7,9])\n",
    "\n",
    "times.sort()\n",
    "\n",
    "print(f\"Zeiten: {[f'{x:.1f}'for x in times]}\")\n",
    "\n",
    "for i in range(9):\n",
    "    deltaTimes[i] = times[i+1]-times[i]\n",
    "\n",
    "print(f\"Zeitabstände: {[f'{x:.1f}'for x in deltaTimes]}\")\n",
    "\n",
    "# Handle first value seperate\n",
    "if deltaTimes[0] < perfectInterval:\n",
    "    deviations[0] = perfectInterval - deltaTimes[0]\n",
    "else:\n",
    "    deviations[0] = 0\n",
    "\n",
    "# Intialize with value of first entry which is always the perfectInterval value\n",
    "maxPossibleDeviation = perfectInterval\n",
    "\n",
    "for i in range(1,len(deltaTimes)):\n",
    "    if deltaTimes[i] < perfectInterval:\n",
    "        deviationsWithoutPenalty = (perfectInterval - deltaTimes[i])\n",
    "        recursivePenalty = deviationsWithoutPenalty / perfectInterval * deviations[i-1]\n",
    "        deviations[i] = deviationsWithoutPenalty + recursivePenalty\n",
    "        maxPossibleDeviation += perfectInterval + recursivePenalty\n",
    "    else:\n",
    "        deviations[i] = 0\n",
    "        maxPossibleDeviation += perfectInterval\n",
    "\n",
    "deviation = deviations.sum()\n",
    "\n",
    "dynamism = 1 - (deviation/maxPossibleDeviation)\n",
    "\n",
    "print(f\"Deviations: {[f'{x:.1f}'for x in deviations]}\")\n",
    "\n",
    "print(f\"Deviation: {deviation:.2f}\")\n",
    "print(f\"Max. possible Deviation: {maxPossibleDeviation:.2f}\")\n",
    "print(f\"Dynamik: {dynamism*100:.1f}%\\n\")\n",
    "\n",
    "plt.figure(figsize=(10,2))\n",
    "#plt.hlines(1,0,10)  # Draw a horizontal line\n",
    "plt.eventplot(times, orientation='horizontal', colors='b', lineoffsets=0.5)\n",
    "#plt.gca().axes.get_yaxis().set_visible(False)\n",
    "plt.gca().set(xlim=(0, 10), xticks=np.arange(0, 11),\n",
    "       ylim=(0, 1), yticks=[])\n",
    "plt.show()"
   ]
  },
  {
   "cell_type": "code",
   "execution_count": null,
   "id": "6e99cbdc-20f6-4ce0-8dcb-cde5c5642907",
   "metadata": {},
   "outputs": [],
   "source": [
    "noRequests = 10\n",
    "maxTime = 10\n",
    "timeResolution = 0.1\n",
    "\n",
    "perfectInterval = maxTime/noRequests\n",
    "#print(f\"Perfect Interval: {perfectInterval:.1f}\\n\")\n",
    "\n",
    "times = np.empty(noRequests)\n",
    "deltaTimes = np.empty(noRequests-1)\n",
    "deviations = np.empty(noRequests-1)\n",
    "\n",
    "# Generate values with normal distributed distance around perfect interval\n",
    "t = 0\n",
    "for i in range(noRequests):\n",
    "    t = round(t + np.random.normal(perfectInterval, 0.25), 1)\n",
    "    times[i] = t%maxTime\n",
    "\n",
    "# First example from paper\n",
    "#times =np.array([0.9,1,3,3.1,5.1,5.2,7.2,7.3,9.3,9.4])\n",
    "# Second example from paper\n",
    "#times =np.array([.5,.6,.7,.8,.9,1,3,5,7,9])\n",
    "\n",
    "times.sort()\n",
    "\n",
    "print(f\"Zeiten: {[f'{x:.1f}'for x in times]}\")\n",
    "\n",
    "for i in range(9):\n",
    "    deltaTimes[i] = times[i+1]-times[i]\n",
    "\n",
    "print(f\"Zeitabstände: {[f'{x:.1f}'for x in deltaTimes]}\")\n",
    "\n",
    "# Handle first value seperate\n",
    "if deltaTimes[0] < perfectInterval:\n",
    "    deviations[0] = perfectInterval - deltaTimes[0]\n",
    "else:\n",
    "    deviations[0] = 0\n",
    "\n",
    "# Intialize with value of first entry which is always the perfectInterval value\n",
    "maxPossibleDeviation = perfectInterval\n",
    "\n",
    "for i in range(1,len(deltaTimes)):\n",
    "    if deltaTimes[i] < perfectInterval:\n",
    "        deviationsWithoutPenalty = (perfectInterval - deltaTimes[i])\n",
    "        recursivePenalty = deviationsWithoutPenalty / perfectInterval * deviations[i-1]\n",
    "        deviations[i] = deviationsWithoutPenalty + recursivePenalty\n",
    "        maxPossibleDeviation += perfectInterval + recursivePenalty\n",
    "    else:\n",
    "        deviations[i] = 0\n",
    "        maxPossibleDeviation += perfectInterval\n",
    "\n",
    "deviation = deviations.sum()\n",
    "\n",
    "dynamism = 1 - (deviation/maxPossibleDeviation)\n",
    "\n",
    "print(f\"Deviations: {[f'{x:.1f}'for x in deviations]}\")\n",
    "\n",
    "print(f\"Deviation: {deviation:.2f}\")\n",
    "print(f\"Max. possible Deviation: {maxPossibleDeviation:.2f}\")\n",
    "print(f\"Dynamik: {dynamism*100:.1f}%\\n\")\n",
    "\n",
    "plt.figure(figsize=(10,2))\n",
    "#plt.hlines(1,0,10)  # Draw a horizontal line\n",
    "plt.eventplot(times, orientation='horizontal', colors='b', lineoffsets=0.5)\n",
    "#plt.gca().axes.get_yaxis().set_visible(False)\n",
    "plt.gca().set(xlim=(0, 10), xticks=np.arange(0, 11),\n",
    "       ylim=(0, 1), yticks=[])\n",
    "plt.show()"
   ]
  },
  {
   "cell_type": "code",
   "execution_count": 218,
   "id": "047e7268-be96-490e-b1fd-78b2f16951c3",
   "metadata": {},
   "outputs": [],
   "source": [
    "bins=10000\n",
    "noOfHitsOverAllBins=10\n",
    "\n",
    "p_sum = np.zeros(bins)\n",
    "n_sum = np.zeros(bins)\n",
    "\n",
    "for _ in range(100000):\n",
    "    n = np.random.randint(0,bins,noOfHitsOverAllBins)\n",
    "    for x in n:\n",
    "        n_sum[x] += 1\n",
    "    \n",
    "\n",
    "    p = np.random.poisson(noOfHitsOverAllBins/bins,bins)\n",
    "    p_sum += p"
   ]
  },
  {
   "cell_type": "code",
   "execution_count": 233,
   "id": "857b909b-af9c-4ee7-9104-7e86d0151ade",
   "metadata": {},
   "outputs": [
    {
     "data": {
      "image/png": "[encoded data removed]",
      "text/plain": [
       "<Figure size 640x480 with 1 Axes>"
      ]
     },
     "metadata": {},
     "output_type": "display_data"
    }
   ],
   "source": [
    "count, bins, ignored = plt.hist(n_sum, 300, density=True)"
   ]
  },
  {
   "cell_type": "code",
   "execution_count": 234,
   "id": "1acc6497-5987-4a43-adcd-7755bbfbd9c1",
   "metadata": {},
   "outputs": [
    {
     "data": {
      "image/png": "[encoded data removed]",
      "text/plain": [
       "<Figure size 640x480 with 1 Axes>"
      ]
     },
     "metadata": {},
     "output_type": "display_data"
    }
   ],
   "source": [
    "count, bins, ignored = plt.hist(p_sum, 300, density=True)"
   ]
  }
 ],
 "metadata": {
  "kernelspec": {
   "display_name": "Python 3 (ipykernel)",
   "language": "python",
   "name": "python3"
  },
  "language_info": {
   "codemirror_mode": {
    "name": "ipython",
    "version": 3
   },
   "file_extension": ".py",
   "mimetype": "text/x-python",
   "name": "python",
   "nbconvert_exporter": "python",
   "pygments_lexer": "ipython3",
   "version": "3.11.8"
  }
 },
 "nbformat": 4,
 "nbformat_minor": 5
}
