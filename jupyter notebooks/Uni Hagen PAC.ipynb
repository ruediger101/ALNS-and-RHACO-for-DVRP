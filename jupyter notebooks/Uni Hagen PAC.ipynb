{
 "cells": [
  {
   "cell_type": "code",
   "execution_count": 68,
   "id": "5b97fa62-1a43-44fa-ba79-b8e83b27be28",
   "metadata": {},
   "outputs": [
    {
     "name": "stdout",
     "output_type": "stream",
     "text": [
      "No of Hosts before: 310\n",
      "No of Hosts after: 252\n",
      "\n",
      "\n",
      "New list of hosts:\n",
      "18thcjournals.amdigital.co.uk|204.8.181.132|212.87.39.205|213.56.90.4|92.198.27.118|aafnet.integrum.ru|aclient.integrum.ru|acm.org|acs.org|aeaweb.org|aip.org|aisel.aisnet.org|alexanderstreet.com|alexanderstreet2.com|ams.math.uni-bielefeld.de|ams.mathematik.uni-bielefeld.de|analecta.bsb-muenchen.de|aps.org|archivesdirect.amdigital.co.uk|arjournals.annualreviews.org|atypon-link.com|aup-online.com|bdsl-online.de|beck-elibrary.de|beck-online.beck.de|bepress.com|bioone.org|blackwell-synergy.com|bloomsburycollections.com|bmj.com|brepolis.net|brill.com|brill.nl|bund-verlag.de|business-archiv.faz.net|cabicompendium.org|cambridge.org|cedion.de|ceeol.com|cepr.org|chadwyck.co.uk|champion-electronique.com|ciaonet.org|classiques-garnier.com|comintern-online.com|communicationencyclopedia.com|computer.org|content-select.com|content-select.net|content.epnet.com|crossref.org|csa.com|datagold.com|db.saur.de|degruyter.com|der-betrieb.de|der-betrieb.owlit.de|dictionaryofeconomics.com|digi.bib.uni-mannheim.de|digibib-nrw.de|digibib.net|digibib.org|digizeitschriften.de|dlib.eastview.com|doabooks.org|doi.org|duden-business.com|duncker-humblot.de|e-books.espresso-tutorials|e-enlightenment.com|ebibliothek.beck.de|ebrary.com|ebscohost.com|editlib.org|eebo.chadwyck.com|ehrafworldcultures.yale.edu|eio-monografie.casalini.it|eio-periodici.casalini.it|eiu.com|elibrary.chbeck.de|elibrary.hogrefe.de|elibrary.utb.de|elibrary.vahlen.de|elibrary.vdi-verlag.de|emerald-library.com|emerald.com|emeraldinsight.com|emis.de|empire.amdigital.co.uk|endocrine.org|esvcampus.de|ezb.uni-regensburg.de|fachportal-paedagogik.de|faz-archiv.de|faz-archiv.faz.net|faz-biblionet.de|fernuni-hagen.ciando.com|find.galegroup.com|fis-bildung.de|fiz-technik.de|gale.com|galenet.galegroup.com|gbv.de|genderidentityandsocialchange.amdigital.co.uk|gerritsen.chadwyck.com|gesis.org|gimg.galegroup.com|go.galegroup.com|goimg.galegroup.com|groveart.com|han.ub.fau.de|hanser-elibrary.com|haufe.de|hbz-nrw.de|hbz.ava.watch|hebrew-bibliography.com|herdt-campus.com|hoppenstedt-hochschuldatenbank.de|hoppenstedt-verbaende.de|icpsr.umich.edu|idcpublishers.info|ieeexplore.ieee.org|igi-global.com|imf.org|imfstatistics.org|infoconnex.de|informaworld.com|informs.org|infotrac.galegroup.com|ingentaconnect.com|ingentaselect.com|iop.org|ipb.uclouvain.be|isiknowledge.com|jco.ascopubs.org|journals.iucr.org|jstor.org|juris.de|karger.com|kll-online.de|kluwerlawonline.com|kuselit.com|landolt-boernstein.com|langenscheidt.com|legios.de|lexisnexis.com|library.oapen.org|liebertonline.com|lwwonline.com|marketline.com|mdpi.com|meiner-elibrary.de|metapress.com|mohrsiebeck.com|msp.org|munzinger.de|muse.jhu.edu|myendnoteweb.com|nachschlage.net|nature.com|nber.org|netlibrary.com|newsbank.com|nexisuni.com|nijhoffonline.nl|nomos-elibrary.de|nowpublishers.com|nsarchive.chadwyck.com|nwb-datenbank.de|nwb.de|nwblogin.de|nytimes.com|oecd-ilibrary.org|oeckl-online.de|olms-online.de|ophen.org|oup.co.uk|oupjournals.org|ovid.com|oxfordhandbooks.com|oxfordjournals.org|oxfordreference.com|oxfordscholarship.com|palgrave-journals.com|pearson.de|peeters-leuven.be|portico.org|primarysources.brillonline.com|primarysourcesonline.nl|proquest.com|proquest.umi.com|psycnet.apa.org|pubpsych.zpid.de|recht.jurion.de|reference-global.com|referenceworks.brillonline.com|report-psychologie.de|rsc.org|rzblx1.uni-regensburg.de|sage-ereference.com|sagepub.com|schwabeonline.ch|science.com|science.org|sciencedirect.com|sciencemag.org|scientific.net|scriptores.bsb-muenchen.de|search.columbia.edu|secure.amdigital.co.uk|siam.org|sourceoecd.org|spektrum.de|spk-berlin.de|springer.com|springer.de|springerlink.com|springermaterials.com|springeronline.com|staatsbibliothek-berlin.de|stalindigitalarchive.com|statista.com|statista.de|stotax-first.de|stotax-portal.de|subito-doc.de|szarchiv.de|tanto.de|thescientificworld.co.uk|theses.com|thieme-connect.de|tlemea.com|transcript-open.de|transcript-verlag.de|tv.theiet.org|ub.fernuni-hagen.de|uchicago.edu|umwelt-online.de|utb-studi-e-book.de|utbstudiebook.juni.com|vandenhoeck-ruprecht-verlage.com|vr-elibrary.de|waxmann.com|webofknowledge.com|wiley.com|wiso-net.de|wissenschaft-online.de|wolterskluwer-online.de|worldoflearning.com|worldwhoswho.com|wto-ilibrary.org|zentralblatt-math.org\n"
     ]
    }
   ],
   "source": [
    "s = \"18thcjournals.amdigital.co.uk|ub.fernuni-hagen.de|92.198.27.118|204.8.181.132|212.87.39.205|213.56.90.4|aafnet.integrum.ru|aclient.integrum.ru|acm.org|acs.org|aip.org|aisel.aisnet.org|alexanderstreet.com|alexanderstreet2.com|imld.alexanderstreet.com|aup-online.com|auth.langenscheidt.com|aeaweb.org|ams.mathematik.uni-bielefeld.de|ams.math.uni-bielefeld.de|analecta.bsb-muenchen.de|aps.org|archivesdirect.amdigital.co.uk|arjournals.annualreviews.org|asc.idcpublishers.info|atypon-link.com|bdsl-online.de|beck-online.beck.de|beck-elibrary.de|ebibliothek.beck.de|bepress.com|bioone.org|blackwell-synergy.com|bloomsburycollections.com|bmj.com|brepolis.net|brill.com |brill.nl|bund-verlag.de|business-archiv.faz.net|cabicompendium.org|cambridge.org|cedion.de|ceeol.com|cepr.org|chadwyck.co.uk|champion-electronique.com|ciaonet.org|classiques-garnier.com|comintern-online.com|communicationencyclopedia.com|computer.org|comms.iop.org|conferenceseries.iop.org|content.epnet.com|content-select.com|content-select.net|crossref.org|static-content.springer.com|csa.com|datagold.com|datenbank.nwb.de|db.saur.de|degruyter.com|genderidentityandsocialchange.amdigital.co.uk|der-betrieb.de|der-betrieb.owlit.de|dictionaryofeconomics.com|digi.bib.uni-mannheim.de|digibib.net|digibib.org|digibib-nrw.de|digizeitschriften.de|dlcr.alexanderstreet.com|dlib.eastview.com|doabooks.org|doi.org|duden-business.com|duncker-humblot.de|ereader.cambridge.org|ereader-api.cambridge.org|e-books.espresso-tutorials|ebrary.com|ebscohost.com|search.ebscohost.com|e-enlightenment.com|editlib.org|eebo.chadwyck.com|ehrafworldcultures.yale.edu|eio-monografie.casalini.it|eio-periodici.casalini.it|elibrary.chbeck.de|elibrary.utb.de|elibrary.vahlen.de|elibrary.vdi-verlag.de|eiu.com|emerald.com|emeraldinsight.com|ebscohost.com|emerald-library.com|emis.de|empire.amdigital.co.uk|endocrine.org|epubs.siam.org|esvcampus.de|ezb.uni-regensburg.de|extsvc.ebscohost.com|fachportal-paedagogik.de|faz-archiv.de|faz-archiv.faz.net|faz-biblionet.de|fernuni-hagen.ciando.com|fhrbibliography.cambridge.org|find.galegroup.com|fis-bildung.de|fiz-technik.de|gale.com|gesis.org|galenet.galegroup.com|gerritsen.chadwyck.com|gimg.galegroup.com|go.galegroup.com|goimg.galegroup.com|gateway.ovid.com|gbv.de|groveart.com|gso.gbv.de|han.ub.fau.de |hanser-elibrary.com|haufe.de|hbz-nrw.de|hebrew-bibliography.com|elibrary.hogrefe.de|herdt-campus.com|hbz.ava.watch|hoppenstedt-verbaende.de|hoppenstedt-hochschuldatenbank.de|icpsr.umich.edu|idcpublishers.info|ieeexplore.ieee.org|igi-global.com|imf.org|imfstatistics.org|infoconnex.de|informaworld.com|informs.org|infotrac.galegroup.com|ingentaconnect.com|ingentaselect.com|insights.ovid.com|interscience.wiley.com|iop.org|iopscience.iop.org|ipb.uclouvain.be |isiknowledge.com|jco.ascopubs.org|journals.iop.org|journals.iucr.org|journals.uchicago.edu|jstor.org|recht.jurion.de|juris.de|kll-online.de|karger.com|kluwerlawonline.com|kuselit.com|owb.langenscheidt.com|langenscheidt.com|landolt-boernstein.com|legios.de|lexisnexis.com|library.oapen.org|liebertonline.com|link.springer.com|lwwonline.com|marketline.com|meiner-elibrary.de|advantage.marketline.com|mdpi.com|metapress.com|mohrsiebeck.com|myendnoteweb.com|msp.org|munzinger.de|muse.jhu.edu|nachschlage.net|nature.com|nber.org|nachschlage.net|netlibrary.com|newisiknowledge.com |newsbank.com|nexisuni.com|nijhoffonline.nl|nowpublishers.com|nsarchive.chadwyck.com|nwb.de|nytimes.com|service.nwb.de|service5.nwb.de|nomos-elibrary.de |nwb-datenbank.de|nwblogin.de|oeckl-online.de|oecd-ilibrary.org|olms-online.de|openpage.prod.aop.cambridge.org|ophen.org|onlinelibrary.wiley.com|oup.co.uk|oupjournals.org|ovid.com|ovidsp.dc2.ovid.com|ovidsp.ovid.com|ovidsp.tx.ovid.com|oxfordhandbooks.com|oxfordjournals.org|oxfordreference.com|oxfordscholarship.com|palgrave-journals.com|pearson.de|peeters-leuven.be|pob.peeters-leuven.be|portico.org|primarysourcesonline.nl|primarysources.brillonline.com|prola.aps.org|proquest.umi.com|proquest.com|psycnet.apa.org|pubpsych.zpid.de|pubs.acs.org|referenceworks.brillonline.com|reference-global.com|report-psychologie.de|rsc.org|rzblx1.uni-regensburg.de|sage-ereference.com|sagepub.com|schwabeonline.ch|science.com|science.org|sciencedirect.com|sciencemag.org|scientific.net|scriptores.bsb-muenchen.de|search.alexanderstreet.com|search.columbia.edu|search.ebscohost.com|search.proquest.com|secure.amdigital.co.uk|secure.nwb.de|siam.org|solomon.dkbl.alexanderstreet.com|sourceoecd.org|spektrum.de|spk-berlin.de|springer.de|springer.com|springerlink.com|springermaterials.com|springernature.com|springeronline.com|idp.springer.com|staatsbibliothek-berlin.de|stalindigitalarchive.com|statista.de|statista.com|stotax-first.de|stotax-portal.de|subito-doc.de|szarchiv.de|archiv.szarchiv.de|tanto.de|the-aps.org|thescientificworld.co.uk|theses.com|thieme-connect.de|tlemea.com|transcript-open.de|transcript-verlag.de|tv.theiet.org|uchicago.edu|uk.proquest.com|umwelt-online.de|urbanhistorybibliography.cambridge.org|utb-studi-e-book.de|utbstudiebook.juni.com|vr-elibrary.de|vandenhoeck-ruprecht-verlage.com|waxmann.com|web.ebscohost.com|web.a.ebscohost.com|web.b.ebscohost.com|web.c.ebscohost.com|web.d.ebscohost.com|web.e.ebscohost.com|web.p.ebscohost.com|web.s.ebscohost.com|webofknowledge.com|webofscience.com|research.wolterskluwer-online.de|wolterskluwer-online.de|worldwhoswho.com|wiley.com|wiso-net.de|wissenschaft-online.de|wto-ilibrary.org|worldoflearning.com|zentralblatt-math.org\"\n",
    "s = s.replace(' ','')\n",
    "s = s.replace('\\t','')\n",
    "hosts = s.split('|')\n",
    "print(\"No of Hosts before: \" + str(len(hosts)))\n",
    "\n",
    "hosts.sort(key = lambda x: len(x))\n",
    "i = 0\n",
    "while i < len(hosts):\n",
    "    for j in range(len(hosts)-1, i, -1):\n",
    "        if hosts[j].endswith(hosts[i]):\n",
    "            hosts.pop(j)\n",
    "    i+=1\n",
    "hosts.sort()\n",
    "print(\"No of Hosts after: \" + str(len(hosts)) + \"\\n\\n\")\n",
    "s=\"|\".join(hosts)\n",
    "print(\"New list of hosts:\")\n",
    "print(s)"
   ]
  }
 ],
 "metadata": {
  "kernelspec": {
   "display_name": "Python 3 (ipykernel)",
   "language": "python",
   "name": "python3"
  },
  "language_info": {
   "codemirror_mode": {
    "name": "ipython",
    "version": 3
   },
   "file_extension": ".py",
   "mimetype": "text/x-python",
   "name": "python",
   "nbconvert_exporter": "python",
   "pygments_lexer": "ipython3",
   "version": "3.11.8"
  }
 },
 "nbformat": 4,
 "nbformat_minor": 5
}
